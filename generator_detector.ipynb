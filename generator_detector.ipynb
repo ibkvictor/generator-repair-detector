{
  "nbformat": 4,
  "nbformat_minor": 0,
  "metadata": {
    "colab": {
      "name": "generator-detector.ipynb",
      "provenance": [],
      "authorship_tag": "ABX9TyM4N2gm7XzT60mTyOHCohnZ",
      "include_colab_link": true
    },
    "kernelspec": {
      "name": "python3",
      "display_name": "Python 3"
    }
  },
  "cells": [
    {
      "cell_type": "markdown",
      "metadata": {
        "id": "view-in-github",
        "colab_type": "text"
      },
      "source": [
        "<a href=\"https://colab.research.google.com/github/ibkvictor/generator-repair-detector/blob/master/generator_detector.ipynb\" target=\"_parent\"><img src=\"https://colab.research.google.com/assets/colab-badge.svg\" alt=\"Open In Colab\"/></a>"
      ]
    },
    {
      "cell_type": "code",
      "metadata": {
        "id": "GMqpHCrannnb",
        "colab_type": "code",
        "colab": {}
      },
      "source": [
        "import numpy as np\n",
        "import tensorflow as tf\n",
        "import keras as K\n",
        "import pandas as pd"
      ],
      "execution_count": 1,
      "outputs": []
    },
    {
      "cell_type": "code",
      "metadata": {
        "id": "IkpXPGRrn2uW",
        "colab_type": "code",
        "colab": {}
      },
      "source": [
        "from keras.layers import LSTM, concatenate, RNN, GRU"
      ],
      "execution_count": 2,
      "outputs": []
    },
    {
      "cell_type": "code",
      "metadata": {
        "id": "PyyXl0QMoPIN",
        "colab_type": "code",
        "colab": {}
      },
      "source": [
        "def model(input_shape):\n",
        "    \"\"\"\n",
        "    Function creating the model's graph in Keras.\n",
        "    \n",
        "    Argument:\n",
        "    input_shape -- shape of the model's input data (using Keras conventions)\n",
        "\n",
        "    Returns:\n",
        "    model -- Keras model instance\n",
        "    \"\"\"\n",
        "    \n",
        "    X_input = Input(shape = input_shape)\n",
        "    \n",
        "    ### START CODE HERE ###\n",
        "    \n",
        "    # Step 1: CONV layer (≈4 lines)\n",
        "    X = Conv1D(filters=196, kernel_size=15, strides=4)(X_input)                                 # CONV1D\n",
        "    X = BatchNormalization()(X)                                # Batch normalization\n",
        "    X = Activation('relu')(X)                                 # ReLu activation\n",
        "    X = Dropout(rate=0.8)(X)                                 # dropout (use 0.8)\n",
        "\n",
        "    # Step 2: First GRU Layer (≈4 lines)\n",
        "    X = GRU(units = 128, return_sequences=True)(X)            # GRU (use 128 units and return the sequences)\n",
        "    X = Dropout(0.8)(X)                                # dropout (use 0.8)\n",
        "    X = BatchNormalization()(X)                                  # Batch normalization\n",
        "    \n",
        "    # Step 3: Second GRU Layer (≈4 lines)\n",
        "    X = GRU(units = 128, return_sequences=True)(X)                                  # GRU (use 128 units and return the sequences)\n",
        "    X = Dropout(0.8)(X)                                 # dropout (use 0.8)\n",
        "    X = BatchNormalization()(X)                                 # Batch normalization\n",
        "    X = Dropout(0.8)(X)                                # dropout (use 0.8)\n",
        "    \n",
        "    # Step 4: Time-distributed dense layer (≈1 line)\n",
        "    X = TimeDistributed(Dense(1, activation = \"sigmoid\"))(X) # time distributed  (sigmoid)\n",
        "\n",
        "    ### END CODE HERE ###\n",
        "\n",
        "    model = Model(inputs = X_input, outputs = X)\n",
        "    \n",
        "    return model  "
      ],
      "execution_count": 3,
      "outputs": []
    },
    {
      "cell_type": "code",
      "metadata": {
        "id": "0Wv63ryfqlKG",
        "colab_type": "code",
        "colab": {
          "base_uri": "https://localhost:8080/",
          "height": 164
        },
        "outputId": "8376b522-2fb2-487f-fa02-c9787ca21eea"
      },
      "source": [
        "model = model(input_shape = (Tx, n_freq))"
      ],
      "execution_count": 4,
      "outputs": [
        {
          "output_type": "error",
          "ename": "NameError",
          "evalue": "ignored",
          "traceback": [
            "\u001b[0;31m---------------------------------------------------------------------------\u001b[0m",
            "\u001b[0;31mNameError\u001b[0m                                 Traceback (most recent call last)",
            "\u001b[0;32m<ipython-input-4-ad9aab14c35c>\u001b[0m in \u001b[0;36m<module>\u001b[0;34m()\u001b[0m\n\u001b[0;32m----> 1\u001b[0;31m \u001b[0mmodel\u001b[0m \u001b[0;34m=\u001b[0m \u001b[0mmodel\u001b[0m\u001b[0;34m(\u001b[0m\u001b[0minput_shape\u001b[0m \u001b[0;34m=\u001b[0m \u001b[0;34m(\u001b[0m\u001b[0mTx\u001b[0m\u001b[0;34m,\u001b[0m \u001b[0mn_freq\u001b[0m\u001b[0;34m)\u001b[0m\u001b[0;34m)\u001b[0m\u001b[0;34m\u001b[0m\u001b[0;34m\u001b[0m\u001b[0m\n\u001b[0m",
            "\u001b[0;31mNameError\u001b[0m: name 'Tx' is not defined"
          ]
        }
      ]
    },
    {
      "cell_type": "code",
      "metadata": {
        "id": "ktwAwhkIqtG5",
        "colab_type": "code",
        "colab": {
          "base_uri": "https://localhost:8080/",
          "height": 300
        },
        "outputId": "c733ad67-93c3-4771-8de0-b9c325a6b6dc"
      },
      "source": [
        "import pydub"
      ],
      "execution_count": 5,
      "outputs": [
        {
          "output_type": "error",
          "ename": "ModuleNotFoundError",
          "evalue": "ignored",
          "traceback": [
            "\u001b[0;31m---------------------------------------------------------------------------\u001b[0m",
            "\u001b[0;31mModuleNotFoundError\u001b[0m                       Traceback (most recent call last)",
            "\u001b[0;32m<ipython-input-5-e66b3c5293d7>\u001b[0m in \u001b[0;36m<module>\u001b[0;34m()\u001b[0m\n\u001b[0;32m----> 1\u001b[0;31m \u001b[0;32mimport\u001b[0m \u001b[0mpydub\u001b[0m\u001b[0;34m\u001b[0m\u001b[0;34m\u001b[0m\u001b[0m\n\u001b[0m",
            "\u001b[0;31mModuleNotFoundError\u001b[0m: No module named 'pydub'",
            "",
            "\u001b[0;31m---------------------------------------------------------------------------\u001b[0;32m\nNOTE: If your import is failing due to a missing package, you can\nmanually install dependencies using either !pip or !apt.\n\nTo view examples of installing some common dependencies, click the\n\"Open Examples\" button below.\n\u001b[0;31m---------------------------------------------------------------------------\u001b[0m\n"
          ]
        }
      ]
    },
    {
      "cell_type": "code",
      "metadata": {
        "id": "gcUM5TfesRhr",
        "colab_type": "code",
        "colab": {}
      },
      "source": [
        ""
      ],
      "execution_count": null,
      "outputs": []
    }
  ]
}